{
 "cells": [
  {
   "cell_type": "code",
   "execution_count": null,
   "metadata": {},
   "outputs": [],
   "source": [
    "#Warning : this code is not orgnaized yet\n",
    "import requests\n",
    "import base64, json\n",
    "import spotipy as sp\n",
    "import pandas as pd\n",
    "import numpy as np"
   ]
  },
  {
   "cell_type": "code",
   "execution_count": null,
   "metadata": {},
   "outputs": [],
   "source": [
    "#curl -X \"POST\" -H \"Authorization: Basic ZjM4ZjAw...WY0MzE=\" -d grant_type=client_credentials https://accounts.spotify.com/api/token\n",
    "\n",
    "authUrl=\"https://accounts.spotify.com/api/token\"\n",
    "\n",
    "authHeader= {}\n",
    "\n",
    "authData ={}\n",
    "\n",
    "clientID =\"\"\n",
    "\n",
    "clientSecret =\"\"\n",
    "\n",
    "message = f'{clientID}:{clientSecret}'\n",
    "message_bytes = message.encode('ascii')\n",
    "base64_bytes = base64.b64encode(message_bytes)\n",
    "base64_message = base64_bytes.decode('ascii')\n",
    "\n",
    "print(base64_message)"
   ]
  },
  {
   "cell_type": "code",
   "execution_count": null,
   "metadata": {},
   "outputs": [],
   "source": [
    "\n",
    "authData['grant_type']='client_credentials'\n",
    "\n",
    "authHeader['Authorization']= \"Basic \"+base64_message\n",
    "\n",
    "res =requests.post(authUrl, headers=authHeader, data= authData)\n",
    "\n",
    "print(res)"
   ]
  },
  {
   "cell_type": "code",
   "execution_count": null,
   "metadata": {},
   "outputs": [],
   "source": [
    "responseObject = res.json()\n",
    "\n",
    "acssesToken = responseObject['access_token']\n",
    "\n",
    "import spotipy\n",
    "from spotipy.oauth2 import SpotifyClientCredentials\n",
    "\n",
    "sp = spotipy.Spotify(auth=acssesToken)"
   ]
  },
  {
   "cell_type": "code",
   "execution_count": null,
   "metadata": {},
   "outputs": [],
   "source": [
    "# method to get the play list object (dont use this)\n",
    "\n",
    "def getplaylist(token,id_):\n",
    "    playlistendpoint = f'https://api.spotify.com/v1/playlists/{id_}'\n",
    "    \n",
    "    GetHeader = { \n",
    "    \"Authorization\":\"Bearer \"+token\n",
    "    }\n",
    "    \n",
    "    res = requests.get(playlistendpoint, headers=GetHeader)\n",
    "    \n",
    "    playlistObject = res.json()\n",
    "    \n",
    "    return playlistObject\n",
    "    "
   ]
  },
  {
   "cell_type": "code",
   "execution_count": null,
   "metadata": {},
   "outputs": [],
   "source": [
    "# this method is not working somehow \n",
    "def get_playlist_tracks(playlist_id):\n",
    "    results = sp.playlist_tracks(playlist_id= playlist_id)\n",
    "    tracks = results['tracks']\n",
    "    while tracks['next']:\n",
    "        results = sp.next(results)\n",
    "        tracks.extend(results['tracks'])\n",
    "    return tracks"
   ]
  },
  {
   "cell_type": "markdown",
   "metadata": {},
   "source": [
    "This code brings only 100 song from each playlist.."
   ]
  },
  {
   "cell_type": "code",
   "execution_count": null,
   "metadata": {},
   "outputs": [],
   "source": [
    "\n",
    "playlist__ = ['2UZk7JjJnbTut1w8fqs3JL?si=291615e5d4564352','4bjo8xl4C0qTLIvv7KL850?si=0a3be6aeabad4cea','1oMdoSZKXxt3Aq0m08FoFp?si=57e044891e014bc4',\n",
    "             '12DQo1bBqzbZPyR52v21um?si=a84c983ac5654732','60BPbvNDih1rjejhylAtbP?si=b351f288e9c9433c','2GbllvHLyTUGzOuSVWKGhV?si=c184232ecf934fbf',\n",
    "             '37i9dQZF1DX5cO1uP1XC1g?si=4171cadd521f4717','37i9dQZF1DXcJUwMZo8Ss1?si=0d8f87de4f0b497d','37i9dQZF1DX51I48C1U653?si=432e29c977d34e0b',\n",
    "             '37i9dQZF1DWUa8ZRTfalHk?si=0e42f6e9ef814053','37i9dQZF1DX3WvGXE8FqYX?si=4d51052b7e244aee','37i9dQZF1DWWEcRhUVtL8n?si=6b1dd1d1c5c24db1',\n",
    "             '37i9dQZF1DXbIGqYf7WDxP?si=8738ac36e026455b','37i9dQZF1DWYp3yzk1civi?si=9eb52966ad8c4ce4','37i9dQZF1DWYs2pvwxWA7l?si=5c8a122686494a3c',\n",
    "             '37i9dQZF1DXcTieYAg7jq1?si=f03ebf18a6db421a','37i9dQZF1DX3u9TSHqpdJC?si=af5ed9afa5184668','37i9dQZF1DWYkaDif7Ztbp?si=79a259d6a7bb41d2',\n",
    "             '37i9dQZF1DX2L0iB23Enbq?si=74a69b8f24204ba0','37i9dQZF1DWYs83FtTMQFw?si=425ffdded1fa4ff4','37i9dQZF1DXaPCIWxzZwR1?si=86106a41f8754485',\n",
    "             '37i9dQZF1DWX9u2doQ8Q2L?si=8173cc8c0541470d','37i9dQZF1DWY8U6Zq7nvbE?si=5c8bd3069378413a','37i9dQZF1DWY8U6Zq7nvbE?si=05ef3bd3c40d4e8b',\n",
    "             '37i9dQZF1DX4pUKG1kS0Ac?si=468936cf07854fb1','2uSJiLBLIj0Q9fYnbImWQt?si=33acce5196e441d1','3W1EC3RNOdJxep69RJD0RS?si=1cdd67d4ccba4819',\n",
    "             '37i9dQZF1DX6aTaZa0K6VA?si=e924f025d7e743fe','6mtYuOxzl58vSGnEDtZ9uB?si=4da0d636149c454a','37i9dQZF1DX8ttEdg9VJHO?si=f1848b01b4c54832']\n",
    "id_list = []\n",
    "songlist_ = []\n",
    "artistlist_=[]\n",
    "#print(json.dumps(tracks,indent=2))\n",
    "dict_ = {}\n",
    "\n",
    "        \n",
    "for i in range(len(playlist__)) :\n",
    "    \n",
    "    tracks = getplaylist(acssesToken,playlist__[i])\n",
    "    \n",
    "    for x in tracks['tracks']['items']:\n",
    "        names = ''\n",
    "        for y in x['tracks'][\"artists\"]:\n",
    "            names = names +'&'+ y['name']\n",
    "\n",
    "        artistlist_.append(names)    \n",
    "        songname= x['track']['name']\n",
    "        idsong= x['track']['id']\n",
    "        id_list.append(str(idsong))\n",
    "        songlist_.append(str(songname))\n",
    "\n",
    "        \n",
    "dict_['Song'] = songlist_\n",
    "dict_['Artist'] = artistlist_\n",
    "dict_['Id'] = id_list   \n",
    "songs = pd.DataFrame(dict_)\n",
    "songs.shape\n"
   ]
  },
  {
   "cell_type": "code",
   "execution_count": null,
   "metadata": {},
   "outputs": [],
   "source": [
    "songs['Id'].nunique()"
   ]
  },
  {
   "cell_type": "code",
   "execution_count": null,
   "metadata": {},
   "outputs": [],
   "source": [
    "songs= songs.drop_duplicates(subset=['Id'])\n",
    "songs"
   ]
  },
  {
   "cell_type": "code",
   "execution_count": null,
   "metadata": {},
   "outputs": [],
   "source": [
    "Songs_id_list = np.array(songs['Id'])\n",
    "Songs_id_list"
   ]
  },
  {
   "cell_type": "code",
   "execution_count": null,
   "metadata": {},
   "outputs": [],
   "source": [
    "array_id = np.array_split(Songs_id_list, 21)"
   ]
  },
  {
   "cell_type": "code",
   "execution_count": null,
   "metadata": {},
   "outputs": [],
   "source": [
    "len(array_id[0].tolist())"
   ]
  },
  {
   "cell_type": "code",
   "execution_count": null,
   "metadata": {},
   "outputs": [],
   "source": [
    "len(array_id[0])"
   ]
  },
  {
   "cell_type": "code",
   "execution_count": null,
   "metadata": {
    "scrolled": true
   },
   "outputs": [],
   "source": [
    "import spotipy\n",
    "from spotipy.oauth2 import SpotifyClientCredentials\n",
    "\n",
    "sp = spotipy.Spotify(auth=acssesToken)\n",
    "\n",
    "final_data = pd.DataFrame()\n",
    "\n",
    "for n in list(range(0,21)):\n",
    "    df2 = sp.audio_features(array_id[n])\n",
    "    try:\n",
    "        for i in range(0,99):\n",
    "            final_data = final_data.append(df2[i], ignore_index=True)\n",
    "    except IndexError:\n",
    "            final_data = final_data.append(dict(), ignore_index=True)\n",
    "    \n",
    "final_data"
   ]
  },
  {
   "cell_type": "code",
   "execution_count": null,
   "metadata": {
    "scrolled": true
   },
   "outputs": [],
   "source": [
    "merged = pd.merge(songs,final_data, how = 'left', left_on = 'Id', right_on = 'id')\n",
    "merged"
   ]
  },
  {
   "cell_type": "code",
   "execution_count": null,
   "metadata": {},
   "outputs": [],
   "source": [
    "merged.to_csv('pop_songs.csv')"
   ]
  },
  {
   "cell_type": "code",
   "execution_count": null,
   "metadata": {},
   "outputs": [],
   "source": [
    "merged['Artist'] = merged['Artist'].str.lstrip(\"&\").str.lower().str.replace(' ','')\n",
    "merged['Song'] = merged['Song'].str.lower()"
   ]
  },
  {
   "cell_type": "code",
   "execution_count": null,
   "metadata": {},
   "outputs": [],
   "source": [
    "merged['Id'].nunique()"
   ]
  }
 ],
 "metadata": {
  "kernelspec": {
   "display_name": "Python 3",
   "language": "python",
   "name": "python3"
  },
  "language_info": {
   "codemirror_mode": {
    "name": "ipython",
    "version": 3
   },
   "file_extension": ".py",
   "mimetype": "text/x-python",
   "name": "python",
   "nbconvert_exporter": "python",
   "pygments_lexer": "ipython3",
   "version": "3.8.10"
  }
 },
 "nbformat": 4,
 "nbformat_minor": 4
}
